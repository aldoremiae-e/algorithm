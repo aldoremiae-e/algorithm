{
 "cells": [
  {
   "cell_type": "markdown",
   "id": "e697dab9",
   "metadata": {},
   "source": [
    "## 2022-01-22\n",
    "## [링크](https://swexpertacademy.com/main/code/problem/problemDetail.do?problemLevel=1&contestProbId=AV5QFZtaAscDFAUq&categoryId=AV5QFZtaAscDFAUq&categoryType=CODE&problemTitle=&orderBy=FIRST_REG_DATETIME&selectCodeLang=ALL&select-1=1&pageSize=10&pageIndex=2)"
   ]
  },
  {
   "cell_type": "code",
   "execution_count": 2,
   "id": "cab4d384",
   "metadata": {},
   "outputs": [
    {
     "name": "stdout",
     "output_type": "stream",
     "text": [
      "10\n",
      "55\n"
     ]
    }
   ],
   "source": [
    "#sol1\n",
    "\n",
    "def my_add(number):\n",
    "    if number == 1:\n",
    "        return 1\n",
    "    else:\n",
    "        return number + my_add(number-1)\n",
    "            \n",
    "\n",
    "num = int(input())\n",
    "print(my_add(num))"
   ]
  },
  {
   "cell_type": "code",
   "execution_count": 3,
   "id": "1587a5d1",
   "metadata": {},
   "outputs": [
    {
     "name": "stdout",
     "output_type": "stream",
     "text": [
      "10\n",
      "55\n"
     ]
    }
   ],
   "source": [
    "#sor2\n",
    "\n",
    "n = int(input())\n",
    "result = 0\n",
    "for i in range(1,n+1):\n",
    "    result += i\n",
    "print(result)"
   ]
  }
 ],
 "metadata": {
  "kernelspec": {
   "display_name": "Python 3 (ipykernel)",
   "language": "python",
   "name": "python3"
  },
  "language_info": {
   "codemirror_mode": {
    "name": "ipython",
    "version": 3
   },
   "file_extension": ".py",
   "mimetype": "text/x-python",
   "name": "python",
   "nbconvert_exporter": "python",
   "pygments_lexer": "ipython3",
   "version": "3.9.9"
  }
 },
 "nbformat": 4,
 "nbformat_minor": 5
}
