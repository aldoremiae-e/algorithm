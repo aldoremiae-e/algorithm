{
 "cells": [
  {
   "cell_type": "code",
   "execution_count": 45,
   "id": "c017847a",
   "metadata": {
    "scrolled": true
   },
   "outputs": [
    {
     "name": "stdout",
     "output_type": "stream",
     "text": [
      "5\n",
      "22220228\n",
      "#1 2222/02/28\n",
      "20150002\n",
      "#2 -1\n",
      "01010101\n",
      "#3 0101/01/01\n",
      "20140230\n",
      "-1\n",
      "11111111\n",
      "#5 1111/11/11\n"
     ]
    }
   ],
   "source": [
    "T = int(input())\n",
    "\n",
    "# 여러개의 테스트 케이스가 주어지므로, 각각을 처리합니다.\n",
    "for test_case in range(1, T + 1):\n",
    "    \n",
    "    number = int(input())\n",
    "    \n",
    "    year = number // 10000 \n",
    "    month_day = number - (year * 10000)\n",
    "    month = month_day // 100\n",
    "    day = month_day - month * 100\n",
    "    \n",
    "    \n",
    "    if 0 < month <= 12:\n",
    "        if month == 2:\n",
    "            if day <= 28:\n",
    "                print(\"#%d %.4d/%.2d/%.2d\" %(test_case, year, month, day))\n",
    "            else :\n",
    "                print(f'#{test_case} -1')\n",
    "        elif month <= 7:\n",
    "            if month % 2:\n",
    "                if day <= 31:\n",
    "                    print(\"#%d %.4d/%.2d/%.2d\" %(test_case, year, month, day))\n",
    "                else:\n",
    "                    print(f'#{test_case} -1')\n",
    "            else:\n",
    "                if day <= 31:\n",
    "                    print(\"#%d %.4d/%.2d/%.2d\" %(test_case, year, month, day))\n",
    "                else:\n",
    "                    print(f'#{test_case} -1')\n",
    "        else:\n",
    "            if month % 2:\n",
    "                if day <= 30:\n",
    "                    print(\"#%d %.4d/%.2d/%.2d\" %(test_case, year, month, day))\n",
    "                else:\n",
    "                    print(f'#{test_case} -1')\n",
    "            else:\n",
    "                if day <= 31:\n",
    "                    print(\"#%d %.4d/%.2d/%.2d\" %(test_case, year, month, day))\n",
    "                else:\n",
    "                    print(f'#{test_case} -1')\n",
    "            \n",
    "    else :\n",
    "        print(f'#{test_case} -1')"
   ]
  },
  {
   "cell_type": "code",
   "execution_count": 52,
   "id": "665d70a7",
   "metadata": {
    "scrolled": true
   },
   "outputs": [
    {
     "name": "stdout",
     "output_type": "stream",
     "text": [
      "ABCDEFGHIJKLMNOPQRSTUVWXYZ\n",
      "1 2 3 4 5 6 7 8 9 10 11 12 13 14 15 16 17 18 19 20 21 22 23 24 25 26 "
     ]
    }
   ],
   "source": [
    "alpha = input()\n",
    "alpha_list = list(alpha)\n",
    "\n",
    "for alpha in alpha_list:\n",
    "    number = ord(alpha)-64\n",
    "    print(number, end=' ')\n"
   ]
  },
  {
   "cell_type": "code",
   "execution_count": 78,
   "id": "ab4a9e7b",
   "metadata": {},
   "outputs": [
    {
     "data": {
      "text/plain": [
       "'A'"
      ]
     },
     "execution_count": 78,
     "metadata": {},
     "output_type": "execute_result"
    }
   ],
   "source": [
    "chr(ord('a')-32)"
   ]
  },
  {
   "cell_type": "code",
   "execution_count": 84,
   "id": "fb5953e1",
   "metadata": {},
   "outputs": [
    {
     "name": "stdout",
     "output_type": "stream",
     "text": [
      "The_headline_is_the_text_indicating_the_nature_of_the_article_below_it.\n",
      "THE_HEADLINE_IS_THE_TEXT_INDICATING_THE_NATURE_OF_THE_ARTICLE_BELOW_IT."
     ]
    }
   ],
   "source": [
    "line = input()\n",
    "for i in line:\n",
    "    \n",
    "    if ord(i) <= 95:\n",
    "        i = i\n",
    "    else:\n",
    "        i = chr(ord(i)-32)\n",
    "    \n",
    "    print(i, end='')"
   ]
  },
  {
   "cell_type": "code",
   "execution_count": 89,
   "id": "566f402e",
   "metadata": {},
   "outputs": [
    {
     "name": "stdout",
     "output_type": "stream",
     "text": [
      "3\n",
      "###"
     ]
    }
   ],
   "source": [
    "number = int(input())\n",
    "for i in range(number):\n",
    "    print('#', end='')"
   ]
  },
  {
   "cell_type": "code",
   "execution_count": 92,
   "id": "d575e0d1",
   "metadata": {},
   "outputs": [
    {
     "name": "stdout",
     "output_type": "stream",
     "text": [
      "123 100\n",
      "24\n"
     ]
    }
   ],
   "source": [
    "x ,y = map(int,input().split())\n",
    "cnt = 0\n",
    "for i in range(y,1000):\n",
    "    if i != x:\n",
    "        cnt += 1\n",
    "    else:\n",
    "        cnt += 1\n",
    "        print(cnt)\n",
    "        break"
   ]
  },
  {
   "cell_type": "code",
   "execution_count": null,
   "id": "6e3c6c33",
   "metadata": {},
   "outputs": [],
   "source": [
    "T =int(input())\n",
    "for test in range(1,T+1):\n",
    "    x, y = map(int,input().split())\n",
    "    \n",
    "    print(\"#%d\" %test, end=' ')\n",
    "    \n",
    "    print(divmod(x, y)[0], divmod(x, y)[1])\n",
    "    "
   ]
  },
  {
   "cell_type": "code",
   "execution_count": 109,
   "id": "d723b32a",
   "metadata": {},
   "outputs": [
    {
     "name": "stdout",
     "output_type": "stream",
     "text": [
      "#++++\n",
      "\n",
      "+#+++\n",
      "\n",
      "++#++\n",
      "\n",
      "+++#+\n",
      "\n",
      "++++#\n",
      "\n"
     ]
    }
   ],
   "source": [
    "for i in range(5):\n",
    "    for j in range(5):\n",
    "        if i == j:\n",
    "            print('#',end='')\n",
    "        else:\n",
    "            print('+', end='')\n",
    "    print('\\n')"
   ]
  },
  {
   "cell_type": "code",
   "execution_count": 111,
   "id": "b99baa0d",
   "metadata": {},
   "outputs": [
    {
     "name": "stdout",
     "output_type": "stream",
     "text": [
      "10\n"
     ]
    },
    {
     "data": {
      "text/plain": [
       "55"
      ]
     },
     "execution_count": 111,
     "metadata": {},
     "output_type": "execute_result"
    }
   ],
   "source": [
    "def my_add(n):\n",
    "    if n==1:\n",
    "        return 1\n",
    "    else:\n",
    "        return n + my_add(n-1)\n",
    "number =int(input())\n",
    "\n",
    "print(my_add(number))"
   ]
  },
  {
   "cell_type": "code",
   "execution_count": 114,
   "id": "82810c70",
   "metadata": {},
   "outputs": [
    {
     "name": "stdout",
     "output_type": "stream",
     "text": [
      "8 3\n",
      "11\n",
      "5\n",
      "24\n",
      "2\n"
     ]
    }
   ],
   "source": [
    "a, b = map(int,input().split())\n",
    "print(a+b)\n",
    "print(a-b)\n",
    "print(a*b)\n",
    "print(a//b)"
   ]
  },
  {
   "cell_type": "code",
   "execution_count": 116,
   "id": "27e382df",
   "metadata": {},
   "outputs": [
    {
     "name": "stdout",
     "output_type": "stream",
     "text": [
      "10\n",
      "1 2 5 10 "
     ]
    }
   ],
   "source": [
    "number = int(input())\n",
    "for i in range(1,number+1):\n",
    "    if number % i:\n",
    "        continue\n",
    "    else:\n",
    "        print(i, end=' ')"
   ]
  },
  {
   "cell_type": "code",
   "execution_count": 117,
   "id": "43fd150f",
   "metadata": {},
   "outputs": [
    {
     "name": "stdout",
     "output_type": "stream",
     "text": [
      "3 2\n",
      "A\n"
     ]
    }
   ],
   "source": [
    "#가위 1 바위 2 보 3\n",
    "a, b = map(int,input().split())\n",
    "\n",
    "if a == 1:\n",
    "    if b == 2:\n",
    "        print('B')\n",
    "    elif b == 3:\n",
    "        print('A')\n",
    "elif a == 2:\n",
    "    if b == 1:\n",
    "        print('B')\n",
    "    elif b == 3:\n",
    "        print('A')\n",
    "elif a == 3:\n",
    "    if b == 1:\n",
    "        print('B')\n",
    "    elif b == 2:\n",
    "        print('A')"
   ]
  },
  {
   "cell_type": "code",
   "execution_count": 119,
   "id": "fd47bbc0",
   "metadata": {
    "scrolled": true
   },
   "outputs": [
    {
     "name": "stdout",
     "output_type": "stream",
     "text": [
      "8\n",
      "1 2 4 8 16 32 64 128 256 "
     ]
    }
   ],
   "source": [
    "number = int(input())\n",
    "result = 1\n",
    "print('1', end=' ')\n",
    "for i in range(1,number+1):\n",
    "    result *= 2\n",
    "    print(result, end=' ')"
   ]
  },
  {
   "cell_type": "code",
   "execution_count": 120,
   "id": "36e0c0a8",
   "metadata": {},
   "outputs": [
    {
     "name": "stdout",
     "output_type": "stream",
     "text": [
      "8\n",
      "8 7 6 5 4 3 2 1 0 "
     ]
    }
   ],
   "source": [
    "number = int(input())\n",
    "for i in range(number,-1,-1):\n",
    "    print(i, end=' ')\n",
    "    "
   ]
  }
 ],
 "metadata": {
  "kernelspec": {
   "display_name": "Python 3 (ipykernel)",
   "language": "python",
   "name": "python3"
  },
  "language_info": {
   "codemirror_mode": {
    "name": "ipython",
    "version": 3
   },
   "file_extension": ".py",
   "mimetype": "text/x-python",
   "name": "python",
   "nbconvert_exporter": "python",
   "pygments_lexer": "ipython3",
   "version": "3.9.9"
  }
 },
 "nbformat": 4,
 "nbformat_minor": 5
}
