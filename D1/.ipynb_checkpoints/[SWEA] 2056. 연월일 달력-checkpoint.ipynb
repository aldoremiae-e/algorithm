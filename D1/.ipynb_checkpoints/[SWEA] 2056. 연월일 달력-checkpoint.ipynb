{
 "cells": [
  {
   "cell_type": "markdown",
   "id": "767d45d3",
   "metadata": {},
   "source": [
    "## 2022-01-22\n",
    "## [링크](https://swexpertacademy.com/main/code/problem/problemDetail.do?problemLevel=1&contestProbId=AV5QLkdKAz4DFAUq&categoryId=AV5QLkdKAz4DFAUq&categoryType=CODE&problemTitle=&orderBy=FIRST_REG_DATETIME&selectCodeLang=ALL&select-1=1&pageSize=10&pageIndex=1)"
   ]
  },
  {
   "cell_type": "code",
   "execution_count": 26,
   "id": "59f9474c",
   "metadata": {},
   "outputs": [
    {
     "name": "stdout",
     "output_type": "stream",
     "text": [
      "5\n",
      "22220228\n",
      "#1 2222/02/28\n",
      "20150002\n",
      "#2 -1\n",
      "01010101\n",
      "#3 0101/01/01\n",
      "20140230\n",
      "#4 -1\n",
      "11111111\n",
      "#5 1111/11/11\n"
     ]
    }
   ],
   "source": [
    "T = int(input())\n",
    "\n",
    "# 여러개의 테스트 케이스가 주어지므로, 각각을 처리합니다.\n",
    "for test_case in range(1, T + 1):\n",
    "    \n",
    "    number = int(input())\n",
    "    \n",
    "    year = number // 10000 \n",
    "    month_day = number - (year * 10000)\n",
    "    month = month_day // 100\n",
    "    day = month_day - month * 100\n",
    "    \n",
    "    \n",
    "    if 0 < month <= 12:\n",
    "        if month == 2:\n",
    "            if day <= 28:\n",
    "                print(\"#%d %.4d/%.2d/%.2d\" %(test_case, year, month, day))\n",
    "            else :\n",
    "                print(f'#{test_case} -1')\n",
    "        elif month <= 7:\n",
    "            if month % 2:\n",
    "                if day <= 31:\n",
    "                    print(\"#%d %.4d/%.2d/%.2d\" %(test_case, year, month, day))\n",
    "                else:\n",
    "                    print(f'#{test_case} -1')\n",
    "            else:\n",
    "                if day <= 31:\n",
    "                    print(\"#%d %.4d/%.2d/%.2d\" %(test_case, year, month, day))\n",
    "                else:\n",
    "                    print(f'#{test_case} -1')\n",
    "        else:\n",
    "            if month % 2:\n",
    "                if day <= 30:\n",
    "                    print(\"#%d %.4d/%.2d/%.2d\" %(test_case, year, month, day))\n",
    "                else:\n",
    "                    print(f'#{test_case} -1')\n",
    "            else:\n",
    "                if day <= 31:\n",
    "                    print(\"#%d %.4d/%.2d/%.2d\" %(test_case, year, month, day))\n",
    "                else:\n",
    "                    print(f'#{test_case} -1')\n",
    "            \n",
    "    else :\n",
    "        print(f'#{test_case} -1')"
   ]
  },
  {
   "cell_type": "code",
   "execution_count": null,
   "id": "8966861f",
   "metadata": {},
   "outputs": [],
   "source": []
  }
 ],
 "metadata": {
  "kernelspec": {
   "display_name": "Python 3 (ipykernel)",
   "language": "python",
   "name": "python3"
  },
  "language_info": {
   "codemirror_mode": {
    "name": "ipython",
    "version": 3
   },
   "file_extension": ".py",
   "mimetype": "text/x-python",
   "name": "python",
   "nbconvert_exporter": "python",
   "pygments_lexer": "ipython3",
   "version": "3.9.9"
  }
 },
 "nbformat": 4,
 "nbformat_minor": 5
}
