{
 "cells": [
  {
   "cell_type": "markdown",
   "id": "f337ade3",
   "metadata": {},
   "source": [
    "## 2022-01-22\n",
    "## [링크](https://swexpertacademy.com/main/code/problem/problemDetail.do?problemLevel=1&contestProbId=AV5QRnJqA5cDFAUq&categoryId=AV5QRnJqA5cDFAUq&categoryType=CODE&problemTitle=&orderBy=FIRST_REG_DATETIME&selectCodeLang=ALL&select-1=1&pageSize=10&pageIndex=1)"
   ]
  },
  {
   "cell_type": "code",
   "execution_count": 3,
   "id": "8d7fa847",
   "metadata": {},
   "outputs": [
    {
     "name": "stdout",
     "output_type": "stream",
     "text": [
      "1\n",
      "22 8 5 123 7 2 63 7 3 46\n",
      "#1 29\n"
     ]
    }
   ],
   "source": [
    "T = int(input())\n",
    "for test in range(1,T+1):\n",
    "    \n",
    "    numbers = map(int,input().split())\n",
    "    print('#%d' %test, end=' ')\n",
    "    \n",
    "    my_sum = 0\n",
    "    cnt = 0\n",
    "    for number in numbers:\n",
    "        my_sum += number\n",
    "        cnt += 1\n",
    "    \n",
    "    print(round(my_sum/cnt)) #round() : 반올림"
   ]
  }
 ],
 "metadata": {
  "kernelspec": {
   "display_name": "Python 3 (ipykernel)",
   "language": "python",
   "name": "python3"
  },
  "language_info": {
   "codemirror_mode": {
    "name": "ipython",
    "version": 3
   },
   "file_extension": ".py",
   "mimetype": "text/x-python",
   "name": "python",
   "nbconvert_exporter": "python",
   "pygments_lexer": "ipython3",
   "version": "3.9.9"
  }
 },
 "nbformat": 4,
 "nbformat_minor": 5
}
