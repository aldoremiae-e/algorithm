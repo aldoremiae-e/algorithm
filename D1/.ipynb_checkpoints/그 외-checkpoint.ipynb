{
 "cells": [
  {
   "cell_type": "code",
   "execution_count": 45,
   "id": "c017847a",
   "metadata": {
    "scrolled": true
   },
   "outputs": [
    {
     "name": "stdout",
     "output_type": "stream",
     "text": [
      "5\n",
      "22220228\n",
      "#1 2222/02/28\n",
      "20150002\n",
      "#2 -1\n",
      "01010101\n",
      "#3 0101/01/01\n",
      "20140230\n",
      "-1\n",
      "11111111\n",
      "#5 1111/11/11\n"
     ]
    }
   ],
   "source": [
    "T = int(input())\n",
    "\n",
    "# 여러개의 테스트 케이스가 주어지므로, 각각을 처리합니다.\n",
    "for test_case in range(1, T + 1):\n",
    "    \n",
    "    number = int(input())\n",
    "    \n",
    "    year = number // 10000 \n",
    "    month_day = number - (year * 10000)\n",
    "    month = month_day // 100\n",
    "    day = month_day - month * 100\n",
    "    \n",
    "    \n",
    "    if 0 < month <= 12:\n",
    "        if month == 2:\n",
    "            if day <= 28:\n",
    "                print(\"#%d %.4d/%.2d/%.2d\" %(test_case, year, month, day))\n",
    "            else :\n",
    "                print(f'#{test_case} -1')\n",
    "        elif month <= 7:\n",
    "            if month % 2:\n",
    "                if day <= 31:\n",
    "                    print(\"#%d %.4d/%.2d/%.2d\" %(test_case, year, month, day))\n",
    "                else:\n",
    "                    print(f'#{test_case} -1')\n",
    "            else:\n",
    "                if day <= 31:\n",
    "                    print(\"#%d %.4d/%.2d/%.2d\" %(test_case, year, month, day))\n",
    "                else:\n",
    "                    print(f'#{test_case} -1')\n",
    "        else:\n",
    "            if month % 2:\n",
    "                if day <= 30:\n",
    "                    print(\"#%d %.4d/%.2d/%.2d\" %(test_case, year, month, day))\n",
    "                else:\n",
    "                    print(f'#{test_case} -1')\n",
    "            else:\n",
    "                if day <= 31:\n",
    "                    print(\"#%d %.4d/%.2d/%.2d\" %(test_case, year, month, day))\n",
    "                else:\n",
    "                    print(f'#{test_case} -1')\n",
    "            \n",
    "    else :\n",
    "        print(f'#{test_case} -1')"
   ]
  },
  {
   "cell_type": "code",
   "execution_count": 52,
   "id": "665d70a7",
   "metadata": {
    "scrolled": true
   },
   "outputs": [
    {
     "name": "stdout",
     "output_type": "stream",
     "text": [
      "ABCDEFGHIJKLMNOPQRSTUVWXYZ\n",
      "1 2 3 4 5 6 7 8 9 10 11 12 13 14 15 16 17 18 19 20 21 22 23 24 25 26 "
     ]
    }
   ],
   "source": [
    "alpha = input()\n",
    "alpha_list = list(alpha)\n",
    "\n",
    "for alpha in alpha_list:\n",
    "    number = ord(alpha)-64\n",
    "    print(number, end=' ')\n"
   ]
  },
  {
   "cell_type": "code",
   "execution_count": 78,
   "id": "c9ca63bf",
   "metadata": {},
   "outputs": [
    {
     "data": {
      "text/plain": [
       "'A'"
      ]
     },
     "execution_count": 78,
     "metadata": {},
     "output_type": "execute_result"
    }
   ],
   "source": [
    "chr(ord('a')-32)"
   ]
  },
  {
   "cell_type": "code",
   "execution_count": 84,
   "id": "c3641fb9",
   "metadata": {},
   "outputs": [
    {
     "name": "stdout",
     "output_type": "stream",
     "text": [
      "The_headline_is_the_text_indicating_the_nature_of_the_article_below_it.\n",
      "THE_HEADLINE_IS_THE_TEXT_INDICATING_THE_NATURE_OF_THE_ARTICLE_BELOW_IT."
     ]
    }
   ],
   "source": [
    "line = input()\n",
    "for i in line:\n",
    "    \n",
    "    if ord(i) <= 95:\n",
    "        i = i\n",
    "    else:\n",
    "        i = chr(ord(i)-32)\n",
    "    \n",
    "    print(i, end='')"
   ]
  },
  {
   "cell_type": "code",
   "execution_count": 89,
   "id": "01d225d5",
   "metadata": {},
   "outputs": [
    {
     "name": "stdout",
     "output_type": "stream",
     "text": [
      "3\n",
      "###"
     ]
    }
   ],
   "source": [
    "number = int(input())\n",
    "for i in range(number):\n",
    "    print('#', end='')"
   ]
  },
  {
   "cell_type": "code",
   "execution_count": 92,
   "id": "98a9801d",
   "metadata": {},
   "outputs": [
    {
     "name": "stdout",
     "output_type": "stream",
     "text": [
      "123 100\n",
      "24\n"
     ]
    }
   ],
   "source": [
    "x ,y = map(int,input().split())\n",
    "cnt = 0\n",
    "for i in range(y,1000):\n",
    "    if i != x:\n",
    "        cnt += 1\n",
    "    else:\n",
    "        cnt += 1\n",
    "        print(cnt)\n",
    "        break"
   ]
  },
  {
   "cell_type": "code",
   "execution_count": null,
   "id": "3a70bf07",
   "metadata": {},
   "outputs": [],
   "source": [
    "T =int(input())\n",
    "for test in range(1,T+1):\n",
    "    x, y = map(int,input().split())\n",
    "    \n",
    "    print(\"#%d\" %test, end=' ')\n",
    "    \n",
    "    print(divmod(x, y)[0], divmod(x, y)[1])\n",
    "    "
   ]
  },
  {
   "cell_type": "code",
   "execution_count": 109,
   "id": "44b21a8f",
   "metadata": {},
   "outputs": [
    {
     "name": "stdout",
     "output_type": "stream",
     "text": [
      "#++++\n",
      "\n",
      "+#+++\n",
      "\n",
      "++#++\n",
      "\n",
      "+++#+\n",
      "\n",
      "++++#\n",
      "\n"
     ]
    }
   ],
   "source": [
    "for i in range(5):\n",
    "    for j in range(5):\n",
    "        if i == j:\n",
    "            print('#',end='')\n",
    "        else:\n",
    "            print('+', end='')\n",
    "    print('\\n')"
   ]
  },
  {
   "cell_type": "code",
   "execution_count": 111,
   "id": "f550ee77",
   "metadata": {},
   "outputs": [
    {
     "name": "stdout",
     "output_type": "stream",
     "text": [
      "10\n"
     ]
    },
    {
     "data": {
      "text/plain": [
       "55"
      ]
     },
     "execution_count": 111,
     "metadata": {},
     "output_type": "execute_result"
    }
   ],
   "source": [
    "def my_add(n):\n",
    "    if n==1:\n",
    "        return 1\n",
    "    else:\n",
    "        return n + my_add(n-1)\n",
    "number =int(input())\n",
    "\n",
    "print(my_add(number))\n",
    "    "
   ]
  }
 ],
 "metadata": {
  "kernelspec": {
   "display_name": "Python 3 (ipykernel)",
   "language": "python",
   "name": "python3"
  },
  "language_info": {
   "codemirror_mode": {
    "name": "ipython",
    "version": 3
   },
   "file_extension": ".py",
   "mimetype": "text/x-python",
   "name": "python",
   "nbconvert_exporter": "python",
   "pygments_lexer": "ipython3",
   "version": "3.9.9"
  }
 },
 "nbformat": 4,
 "nbformat_minor": 5
}
