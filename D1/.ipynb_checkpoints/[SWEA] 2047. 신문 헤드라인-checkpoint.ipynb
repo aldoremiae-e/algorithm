{
 "cells": [
  {
   "cell_type": "markdown",
   "id": "0f4be3d2",
   "metadata": {},
   "source": [
    "## 2022-01-22\n",
    "## [링크](https://swexpertacademy.com/main/code/problem/problemDetail.do?problemLevel=1&contestProbId=AV5QKsLaAy0DFAUq&categoryId=AV5QKsLaAy0DFAUq&categoryType=CODE&problemTitle=&orderBy=FIRST_REG_DATETIME&selectCodeLang=ALL&select-1=1&pageSize=10&pageIndex=1)"
   ]
  },
  {
   "cell_type": "code",
   "execution_count": 1,
   "id": "8adbeec1",
   "metadata": {},
   "outputs": [
    {
     "name": "stdout",
     "output_type": "stream",
     "text": [
      "The_headline_is_the_text_indicating_the_nature_of_the_article_below_it.\n",
      "THE_HEADLINE_IS_THE_TEXT_INDICATING_THE_NATURE_OF_THE_ARTICLE_BELOW_IT."
     ]
    }
   ],
   "source": [
    "line = input()\n",
    "for i in line:\n",
    "    \n",
    "    if ord(i) <= 95:\n",
    "        i = i\n",
    "    else:\n",
    "        i = chr(ord(i)-32)\n",
    "    \n",
    "    print(i, end='')"
   ]
  }
 ],
 "metadata": {
  "kernelspec": {
   "display_name": "Python 3 (ipykernel)",
   "language": "python",
   "name": "python3"
  },
  "language_info": {
   "codemirror_mode": {
    "name": "ipython",
    "version": 3
   },
   "file_extension": ".py",
   "mimetype": "text/x-python",
   "name": "python",
   "nbconvert_exporter": "python",
   "pygments_lexer": "ipython3",
   "version": "3.9.9"
  }
 },
 "nbformat": 4,
 "nbformat_minor": 5
}
