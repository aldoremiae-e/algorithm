{
 "cells": [
  {
   "cell_type": "markdown",
   "id": "b0cd8665",
   "metadata": {},
   "source": [
    "## 2022-01-22\n",
    "## [링크](https://swexpertacademy.com/main/code/problem/problemDetail.do?problemLevel=1&contestProbId=AV5QSEhaA5sDFAUq&categoryId=AV5QSEhaA5sDFAUq&categoryType=CODE&problemTitle=&orderBy=FIRST_REG_DATETIME&selectCodeLang=ALL&select-1=1&pageSize=10&pageIndex=1)"
   ]
  },
  {
   "cell_type": "code",
   "execution_count": null,
   "id": "e61d7ba4",
   "metadata": {},
   "outputs": [
    {
     "name": "stdout",
     "output_type": "stream",
     "text": [
      "3\n",
      "3 17 1 39 8 41 2 32 99 2\n",
      "#1 200\n"
     ]
    }
   ],
   "source": [
    "T = int(input())\n",
    "for test in range(1,T+1):\n",
    "    \n",
    "    numbers = map(int,input().split())\n",
    "    print('#%d' %test, end=' ')\n",
    "    result = 0\n",
    "    \n",
    "    for number in numbers:\n",
    "        \n",
    "    \n",
    "        if number % 2:\n",
    "            result += number\n",
    "    print(result)"
   ]
  }
 ],
 "metadata": {
  "kernelspec": {
   "display_name": "Python 3 (ipykernel)",
   "language": "python",
   "name": "python3"
  },
  "language_info": {
   "codemirror_mode": {
    "name": "ipython",
    "version": 3
   },
   "file_extension": ".py",
   "mimetype": "text/x-python",
   "name": "python",
   "nbconvert_exporter": "python",
   "pygments_lexer": "ipython3",
   "version": "3.9.9"
  }
 },
 "nbformat": 4,
 "nbformat_minor": 5
}
