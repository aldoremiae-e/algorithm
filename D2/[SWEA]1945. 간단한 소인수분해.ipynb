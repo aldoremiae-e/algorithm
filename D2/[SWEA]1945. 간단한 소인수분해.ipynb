{
 "cells": [
  {
   "cell_type": "code",
   "execution_count": null,
   "id": "c442b392",
   "metadata": {},
   "outputs": [
    {
     "name": "stdout",
     "output_type": "stream",
     "text": [
      "10\n",
      "6791400\n",
      "#1 3 2 2 3 1 \n"
     ]
    }
   ],
   "source": [
    "T = int(input())\n",
    "for tc in range(1, T+1):\n",
    "    N = int(input())\n",
    "    arr = [0 for _ in range(5)]\n",
    "    lst = [2, 3, 5, 7, 11]\n",
    "\n",
    "    while N % 2 == 0:\n",
    "        N = N//2\n",
    "        arr[0] += 1\n",
    "    while N % 3 == 0:\n",
    "        N = N//3\n",
    "        arr[1] += 1\n",
    "    while N % 5 == 0:\n",
    "        N = N//5\n",
    "        arr[2] += 1\n",
    "    while N % 7 == 0:\n",
    "        N = N//7\n",
    "        arr[3] += 1\n",
    "    while N % 11 == 0:\n",
    "        N = N//11\n",
    "        arr[4] += 1\n",
    "    print(f'#{tc}', end=' ')\n",
    "    for i in arr:\n",
    "        print(i, end=' ')\n",
    "    print()"
   ]
  },
  {
   "cell_type": "code",
   "execution_count": null,
   "id": "8b6879e1",
   "metadata": {},
   "outputs": [],
   "source": []
  }
 ],
 "metadata": {
  "kernelspec": {
   "display_name": "Python 3 (ipykernel)",
   "language": "python",
   "name": "python3"
  },
  "language_info": {
   "codemirror_mode": {
    "name": "ipython",
    "version": 3
   },
   "file_extension": ".py",
   "mimetype": "text/x-python",
   "name": "python",
   "nbconvert_exporter": "python",
   "pygments_lexer": "ipython3",
   "version": "3.9.9"
  }
 },
 "nbformat": 4,
 "nbformat_minor": 5
}
