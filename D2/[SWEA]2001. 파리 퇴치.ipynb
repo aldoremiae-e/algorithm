{
 "cells": [
  {
   "cell_type": "code",
   "execution_count": null,
   "id": "40da861a",
   "metadata": {},
   "outputs": [
    {
     "name": "stdout",
     "output_type": "stream",
     "text": [
      "10\n",
      "5 2\n",
      "1 3 3 6 7\n",
      "8 13 9 12 8\n",
      "4 16 11 12 6\n",
      "2 4 1 23 2\n",
      "9 13 4 7 3\n",
      "#1 49\n"
     ]
    }
   ],
   "source": [
    "T= int(input())\n",
    "for tc in range(1, T+1):\n",
    "    N, M = map(int, input().split())\n",
    "    big = [list(map(int, input().split())) for _ in range(N)]\n",
    "    result = 0\n",
    "    for i in range(N):\n",
    "        for j in range(N):\n",
    "            cnt = 0\n",
    "            for di in range(M):\n",
    "                for dj in range(M):\n",
    "                    ni = i + di\n",
    "                    nj = j + dj\n",
    "                    if 0 <= ni < N and 0 <= nj < N:\n",
    "                        cnt += big[ni][nj]\n",
    "            if cnt > result:\n",
    "                result = cnt\n",
    " \n",
    "    print(f'#{tc} {result}')"
   ]
  },
  {
   "cell_type": "code",
   "execution_count": null,
   "id": "eb4feb29",
   "metadata": {},
   "outputs": [],
   "source": []
  }
 ],
 "metadata": {
  "kernelspec": {
   "display_name": "Python 3 (ipykernel)",
   "language": "python",
   "name": "python3"
  },
  "language_info": {
   "codemirror_mode": {
    "name": "ipython",
    "version": 3
   },
   "file_extension": ".py",
   "mimetype": "text/x-python",
   "name": "python",
   "nbconvert_exporter": "python",
   "pygments_lexer": "ipython3",
   "version": "3.9.9"
  }
 },
 "nbformat": 4,
 "nbformat_minor": 5
}
